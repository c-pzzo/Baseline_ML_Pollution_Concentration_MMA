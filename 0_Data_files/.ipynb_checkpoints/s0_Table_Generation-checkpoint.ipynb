{
 "cells": [
  {
   "cell_type": "markdown",
   "id": "8b459f8f",
   "metadata": {},
   "source": [
    "# Libraries"
   ]
  },
  {
   "cell_type": "code",
   "execution_count": 1,
   "id": "f239d788",
   "metadata": {},
   "outputs": [
    {
     "name": "stdout",
     "output_type": "stream",
     "text": [
      "User information is ready!\n"
     ]
    }
   ],
   "source": [
    "%run \"/home/cesar/Python_NBs/HDL_Project/HDL_Project/global_fv.ipynb\""
   ]
  },
  {
   "cell_type": "code",
   "execution_count": 2,
   "id": "8f0bf816",
   "metadata": {},
   "outputs": [],
   "source": [
    "import os\n",
    "import glob\n",
    "import pandas as pd\n",
    "from pandasql import sqldf"
   ]
  },
  {
   "cell_type": "markdown",
   "id": "3535e04d",
   "metadata": {},
   "source": [
    "# Data"
   ]
  },
  {
   "cell_type": "code",
   "execution_count": 3,
   "id": "cd22bf31",
   "metadata": {},
   "outputs": [],
   "source": [
    "create_new_files = False"
   ]
  },
  {
   "cell_type": "markdown",
   "id": "c4cc6a6f",
   "metadata": {},
   "source": [
    "## Reading raw files"
   ]
  },
  {
   "cell_type": "code",
   "execution_count": 4,
   "id": "7d0e578d",
   "metadata": {
    "scrolled": true
   },
   "outputs": [
    {
     "data": {
      "text/plain": [
       "[]"
      ]
     },
     "execution_count": 4,
     "metadata": {},
     "output_type": "execute_result"
    }
   ],
   "source": [
    "file_location = '/Restructured_Data/'\n",
    "files_list = list(glob.iglob('.{}*22.csv'.format(file_location)))\n",
    "files_list"
   ]
  },
  {
   "cell_type": "markdown",
   "id": "bc8fbf6e",
   "metadata": {},
   "source": [
    "## Creating reformatted data files"
   ]
  },
  {
   "cell_type": "code",
   "execution_count": 5,
   "id": "fb0a5b93",
   "metadata": {},
   "outputs": [],
   "source": [
    "if create_new_files:\n",
    "    for file_to_edit in files_list:\n",
    "        # Editing original raw files\n",
    "        df = pd.read_csv(file_to_edit)\n",
    "\n",
    "        # datetime is originally structured as DD/MM/YYYY and will be transformed to YYYY/MM/DD\n",
    "        day = df['date'].str.slice(0, 2)\n",
    "        month = df['date'].str.slice(3, 5)\n",
    "        year = df['date'].str.slice(6, 10)\n",
    "        time = df['date'].str[11:] + \":00\"\n",
    "\n",
    "        df[\"datetime_edit\"] = year + \"-\" + month + \"-\" + day + \" \" + time\n",
    "\n",
    "        df[\"date\"] = df[\"datetime_edit\"]\n",
    "        df = df.drop(\"datetime_edit\", axis = 1)    \n",
    "        df = df.rename(columns={\"date\": \"datetime\"})\n",
    "\n",
    "        file_to_edit = file_to_edit.replace(\"./\", \"\")\n",
    "\n",
    "        rename = file_to_edit\n",
    "        rename = rename.replace(file_location[1:], \"\")\n",
    "        rename = rename.replace(\"_2015_2022.csv\", \"\").lower()\n",
    "        rename = \"sima_\" + rename + \".csv\"\n",
    "        rename = file_location[1:] + rename\n",
    "        \n",
    "        # Case-specific edit\n",
    "        rename = rename.replace(\"2.5\", \"25\")\n",
    "        \n",
    "        df.to_csv(rename, encoding='utf-8', index=False)    "
   ]
  },
  {
   "cell_type": "markdown",
   "id": "2eeaa18a",
   "metadata": {},
   "source": [
    "# Creating SQL structures"
   ]
  },
  {
   "cell_type": "code",
   "execution_count": 6,
   "id": "7ee95f61",
   "metadata": {},
   "outputs": [
    {
     "data": {
      "text/plain": [
       "['./Restructured_Data/sima_co.csv',\n",
       " './Restructured_Data/sima_rainf.csv',\n",
       " './Restructured_Data/sima_prs.csv',\n",
       " './Restructured_Data/sima_tout.csv',\n",
       " './Restructured_Data/sima_wsr.csv',\n",
       " './Restructured_Data/sima_no.csv',\n",
       " './Restructured_Data/sima_wdr.csv',\n",
       " './Restructured_Data/sima_nox.csv',\n",
       " './Restructured_Data/sima_pm10.csv',\n",
       " './Restructured_Data/sima_rh.csv',\n",
       " './Restructured_Data/sima_o3.csv',\n",
       " './Restructured_Data/sima_so2.csv',\n",
       " './Restructured_Data/sima_sr.csv',\n",
       " './Restructured_Data/sima_no2.csv',\n",
       " './Restructured_Data/sima_pm25.csv']"
      ]
     },
     "execution_count": 6,
     "metadata": {},
     "output_type": "execute_result"
    }
   ],
   "source": [
    "# Reading raw files\n",
    "file_location = '/Restructured_Data/'\n",
    "files_list = list(glob.iglob('.{}*sima*.csv'.format(file_location)))\n",
    "\n",
    "files_list"
   ]
  },
  {
   "cell_type": "code",
   "execution_count": 7,
   "id": "f0f04ad2",
   "metadata": {},
   "outputs": [],
   "source": [
    "# Parameters for raw files\n",
    "files_list = sorted([i[len(file_location)+1:-4] for i in files_list])\n",
    "data_type = ['F', 'F', 'F', 'F', 'I', 'I', 'I', 'F', 'F', 'I', 'F', 'F', 'I', 'I', 'F']\n",
    "\n",
    "cols = ['datetime','SE','NE','CE','NO','SO','NO2','NTE','NE2','SE2','SO2','SE3','SUR','NTE2','NE3']\n",
    "\n",
    "F_types = ['DATETIME NOT NULL', 'FLOAT NULL', 'FLOAT NULL', 'FLOAT NULL', 'FLOAT NULL', 'FLOAT NULL', 'FLOAT NULL', 'FLOAT NULL', 'FLOAT NULL', 'FLOAT NULL', 'FLOAT NULL', 'FLOAT NULL', 'FLOAT NULL', 'FLOAT NULL', 'FLOAT NULL']\n",
    "I_types = ['DATETIME NOT NULL', 'INT NULL', 'INT NULL', 'INT NULL', 'INT NULL', 'INT NULL', 'INT NULL', 'INT NULL', 'INT NULL', 'INT NULL', 'INT NULL', 'INT NULL', 'INT NULL', 'INT NULL', 'INT NULL']\n"
   ]
  },
  {
   "cell_type": "code",
   "execution_count": 8,
   "id": "2bb77826",
   "metadata": {
    "scrolled": true
   },
   "outputs": [
    {
     "name": "stdout",
     "output_type": "stream",
     "text": [
      "CREATE TABLE HDL_Project.`sima_co` (\n",
      "`datetime` DATETIME NOT NULL\n",
      ", `SE` FLOAT NULL\n",
      ", `NE` FLOAT NULL\n",
      ", `CE` FLOAT NULL\n",
      ", `NO` INT NULL\n",
      ", `SO` INT NULL\n",
      ", `NO2` INT NULL\n",
      ", `NTE` FLOAT NULL\n",
      ", `NE2` FLOAT NULL\n",
      ", `SE2` INT NULL\n",
      ", `SO2` FLOAT NULL\n",
      ", `SE3` FLOAT NULL\n",
      ", `SUR` INT NULL\n",
      ", `NTE2` INT NULL\n",
      ", `NE3` FLOAT NULL\n",
      ") COMMENT = \"Source: sima_co.csv\";\n",
      "\n",
      "CREATE TABLE HDL_Project.`sima_no` (\n",
      "`datetime` DATETIME NOT NULL\n",
      ", `SE` FLOAT NULL\n",
      ", `NE` FLOAT NULL\n",
      ", `CE` FLOAT NULL\n",
      ", `NO` INT NULL\n",
      ", `SO` INT NULL\n",
      ", `NO2` INT NULL\n",
      ", `NTE` FLOAT NULL\n",
      ", `NE2` FLOAT NULL\n",
      ", `SE2` INT NULL\n",
      ", `SO2` FLOAT NULL\n",
      ", `SE3` FLOAT NULL\n",
      ", `SUR` INT NULL\n",
      ", `NTE2` INT NULL\n",
      ", `NE3` FLOAT NULL\n",
      ") COMMENT = \"Source: sima_no.csv\";\n",
      "\n",
      "CREATE TABLE HDL_Project.`sima_no2` (\n",
      "`datetime` DATETIME NOT NULL\n",
      ", `SE` FLOAT NULL\n",
      ", `NE` FLOAT NULL\n",
      ", `CE` FLOAT NULL\n",
      ", `NO` INT NULL\n",
      ", `SO` INT NULL\n",
      ", `NO2` INT NULL\n",
      ", `NTE` FLOAT NULL\n",
      ", `NE2` FLOAT NULL\n",
      ", `SE2` INT NULL\n",
      ", `SO2` FLOAT NULL\n",
      ", `SE3` FLOAT NULL\n",
      ", `SUR` INT NULL\n",
      ", `NTE2` INT NULL\n",
      ", `NE3` FLOAT NULL\n",
      ") COMMENT = \"Source: sima_no2.csv\";\n",
      "\n",
      "CREATE TABLE HDL_Project.`sima_nox` (\n",
      "`datetime` DATETIME NOT NULL\n",
      ", `SE` FLOAT NULL\n",
      ", `NE` FLOAT NULL\n",
      ", `CE` FLOAT NULL\n",
      ", `NO` INT NULL\n",
      ", `SO` INT NULL\n",
      ", `NO2` INT NULL\n",
      ", `NTE` FLOAT NULL\n",
      ", `NE2` FLOAT NULL\n",
      ", `SE2` INT NULL\n",
      ", `SO2` FLOAT NULL\n",
      ", `SE3` FLOAT NULL\n",
      ", `SUR` INT NULL\n",
      ", `NTE2` INT NULL\n",
      ", `NE3` FLOAT NULL\n",
      ") COMMENT = \"Source: sima_nox.csv\";\n",
      "\n",
      "CREATE TABLE HDL_Project.`sima_o3` (\n",
      "`datetime` DATETIME NOT NULL\n",
      ", `SE` FLOAT NULL\n",
      ", `NE` FLOAT NULL\n",
      ", `CE` FLOAT NULL\n",
      ", `NO` INT NULL\n",
      ", `SO` INT NULL\n",
      ", `NO2` INT NULL\n",
      ", `NTE` FLOAT NULL\n",
      ", `NE2` FLOAT NULL\n",
      ", `SE2` INT NULL\n",
      ", `SO2` FLOAT NULL\n",
      ", `SE3` FLOAT NULL\n",
      ", `SUR` INT NULL\n",
      ", `NTE2` INT NULL\n",
      ", `NE3` FLOAT NULL\n",
      ") COMMENT = \"Source: sima_o3.csv\";\n",
      "\n",
      "CREATE TABLE HDL_Project.`sima_pm10` (\n",
      "`datetime` DATETIME NOT NULL\n",
      ", `SE` FLOAT NULL\n",
      ", `NE` FLOAT NULL\n",
      ", `CE` FLOAT NULL\n",
      ", `NO` INT NULL\n",
      ", `SO` INT NULL\n",
      ", `NO2` INT NULL\n",
      ", `NTE` FLOAT NULL\n",
      ", `NE2` FLOAT NULL\n",
      ", `SE2` INT NULL\n",
      ", `SO2` FLOAT NULL\n",
      ", `SE3` FLOAT NULL\n",
      ", `SUR` INT NULL\n",
      ", `NTE2` INT NULL\n",
      ", `NE3` FLOAT NULL\n",
      ") COMMENT = \"Source: sima_pm10.csv\";\n",
      "\n",
      "CREATE TABLE HDL_Project.`sima_pm25` (\n",
      "`datetime` DATETIME NOT NULL\n",
      ", `SE` FLOAT NULL\n",
      ", `NE` FLOAT NULL\n",
      ", `CE` FLOAT NULL\n",
      ", `NO` INT NULL\n",
      ", `SO` INT NULL\n",
      ", `NO2` INT NULL\n",
      ", `NTE` FLOAT NULL\n",
      ", `NE2` FLOAT NULL\n",
      ", `SE2` INT NULL\n",
      ", `SO2` FLOAT NULL\n",
      ", `SE3` FLOAT NULL\n",
      ", `SUR` INT NULL\n",
      ", `NTE2` INT NULL\n",
      ", `NE3` FLOAT NULL\n",
      ") COMMENT = \"Source: sima_pm25.csv\";\n",
      "\n",
      "CREATE TABLE HDL_Project.`sima_prs` (\n",
      "`datetime` DATETIME NOT NULL\n",
      ", `SE` FLOAT NULL\n",
      ", `NE` FLOAT NULL\n",
      ", `CE` FLOAT NULL\n",
      ", `NO` INT NULL\n",
      ", `SO` INT NULL\n",
      ", `NO2` INT NULL\n",
      ", `NTE` FLOAT NULL\n",
      ", `NE2` FLOAT NULL\n",
      ", `SE2` INT NULL\n",
      ", `SO2` FLOAT NULL\n",
      ", `SE3` FLOAT NULL\n",
      ", `SUR` INT NULL\n",
      ", `NTE2` INT NULL\n",
      ", `NE3` FLOAT NULL\n",
      ") COMMENT = \"Source: sima_prs.csv\";\n",
      "\n",
      "CREATE TABLE HDL_Project.`sima_rainf` (\n",
      "`datetime` DATETIME NOT NULL\n",
      ", `SE` FLOAT NULL\n",
      ", `NE` FLOAT NULL\n",
      ", `CE` FLOAT NULL\n",
      ", `NO` INT NULL\n",
      ", `SO` INT NULL\n",
      ", `NO2` INT NULL\n",
      ", `NTE` FLOAT NULL\n",
      ", `NE2` FLOAT NULL\n",
      ", `SE2` INT NULL\n",
      ", `SO2` FLOAT NULL\n",
      ", `SE3` FLOAT NULL\n",
      ", `SUR` INT NULL\n",
      ", `NTE2` INT NULL\n",
      ", `NE3` FLOAT NULL\n",
      ") COMMENT = \"Source: sima_rainf.csv\";\n",
      "\n",
      "CREATE TABLE HDL_Project.`sima_rh` (\n",
      "`datetime` DATETIME NOT NULL\n",
      ", `SE` FLOAT NULL\n",
      ", `NE` FLOAT NULL\n",
      ", `CE` FLOAT NULL\n",
      ", `NO` INT NULL\n",
      ", `SO` INT NULL\n",
      ", `NO2` INT NULL\n",
      ", `NTE` FLOAT NULL\n",
      ", `NE2` FLOAT NULL\n",
      ", `SE2` INT NULL\n",
      ", `SO2` FLOAT NULL\n",
      ", `SE3` FLOAT NULL\n",
      ", `SUR` INT NULL\n",
      ", `NTE2` INT NULL\n",
      ", `NE3` FLOAT NULL\n",
      ") COMMENT = \"Source: sima_rh.csv\";\n",
      "\n",
      "CREATE TABLE HDL_Project.`sima_so2` (\n",
      "`datetime` DATETIME NOT NULL\n",
      ", `SE` FLOAT NULL\n",
      ", `NE` FLOAT NULL\n",
      ", `CE` FLOAT NULL\n",
      ", `NO` INT NULL\n",
      ", `SO` INT NULL\n",
      ", `NO2` INT NULL\n",
      ", `NTE` FLOAT NULL\n",
      ", `NE2` FLOAT NULL\n",
      ", `SE2` INT NULL\n",
      ", `SO2` FLOAT NULL\n",
      ", `SE3` FLOAT NULL\n",
      ", `SUR` INT NULL\n",
      ", `NTE2` INT NULL\n",
      ", `NE3` FLOAT NULL\n",
      ") COMMENT = \"Source: sima_so2.csv\";\n",
      "\n",
      "CREATE TABLE HDL_Project.`sima_sr` (\n",
      "`datetime` DATETIME NOT NULL\n",
      ", `SE` FLOAT NULL\n",
      ", `NE` FLOAT NULL\n",
      ", `CE` FLOAT NULL\n",
      ", `NO` INT NULL\n",
      ", `SO` INT NULL\n",
      ", `NO2` INT NULL\n",
      ", `NTE` FLOAT NULL\n",
      ", `NE2` FLOAT NULL\n",
      ", `SE2` INT NULL\n",
      ", `SO2` FLOAT NULL\n",
      ", `SE3` FLOAT NULL\n",
      ", `SUR` INT NULL\n",
      ", `NTE2` INT NULL\n",
      ", `NE3` FLOAT NULL\n",
      ") COMMENT = \"Source: sima_sr.csv\";\n",
      "\n",
      "CREATE TABLE HDL_Project.`sima_tout` (\n",
      "`datetime` DATETIME NOT NULL\n",
      ", `SE` FLOAT NULL\n",
      ", `NE` FLOAT NULL\n",
      ", `CE` FLOAT NULL\n",
      ", `NO` INT NULL\n",
      ", `SO` INT NULL\n",
      ", `NO2` INT NULL\n",
      ", `NTE` FLOAT NULL\n",
      ", `NE2` FLOAT NULL\n",
      ", `SE2` INT NULL\n",
      ", `SO2` FLOAT NULL\n",
      ", `SE3` FLOAT NULL\n",
      ", `SUR` INT NULL\n",
      ", `NTE2` INT NULL\n",
      ", `NE3` FLOAT NULL\n",
      ") COMMENT = \"Source: sima_tout.csv\";\n",
      "\n",
      "CREATE TABLE HDL_Project.`sima_wdr` (\n",
      "`datetime` DATETIME NOT NULL\n",
      ", `SE` FLOAT NULL\n",
      ", `NE` FLOAT NULL\n",
      ", `CE` FLOAT NULL\n",
      ", `NO` INT NULL\n",
      ", `SO` INT NULL\n",
      ", `NO2` INT NULL\n",
      ", `NTE` FLOAT NULL\n",
      ", `NE2` FLOAT NULL\n",
      ", `SE2` INT NULL\n",
      ", `SO2` FLOAT NULL\n",
      ", `SE3` FLOAT NULL\n",
      ", `SUR` INT NULL\n",
      ", `NTE2` INT NULL\n",
      ", `NE3` FLOAT NULL\n",
      ") COMMENT = \"Source: sima_wdr.csv\";\n",
      "\n",
      "CREATE TABLE HDL_Project.`sima_wsr` (\n",
      "`datetime` DATETIME NOT NULL\n",
      ", `SE` FLOAT NULL\n",
      ", `NE` FLOAT NULL\n",
      ", `CE` FLOAT NULL\n",
      ", `NO` INT NULL\n",
      ", `SO` INT NULL\n",
      ", `NO2` INT NULL\n",
      ", `NTE` FLOAT NULL\n",
      ", `NE2` FLOAT NULL\n",
      ", `SE2` INT NULL\n",
      ", `SO2` FLOAT NULL\n",
      ", `SE3` FLOAT NULL\n",
      ", `SUR` INT NULL\n",
      ", `NTE2` INT NULL\n",
      ", `NE3` FLOAT NULL\n",
      ") COMMENT = \"Source: sima_wsr.csv\";\n",
      "\n"
     ]
    }
   ],
   "source": [
    "# Query commands to create SQL tables.\n",
    "for i in files_list:\n",
    "    print(\"CREATE TABLE HDL_Project.`{}` (\".format(i))\n",
    "    for j, k, l in zip(range(len(files_list)), cols, data_type):\n",
    "        if l == \"F\":\n",
    "            dtypes = F_types\n",
    "        else:\n",
    "            dtypes = I_types\n",
    "        \n",
    "        if j == 0:\n",
    "            print(\"`{}` {}\".format(k, dtypes[j]))\n",
    "        else:\n",
    "            print(\", `{}` {}\".format(k, dtypes[j]))\n",
    "    print(\") COMMENT = \\\"Source: {}.csv\\\";\".format(i))\n",
    "    print(\"\")\n",
    "        "
   ]
  },
  {
   "cell_type": "markdown",
   "id": "e13708e5",
   "metadata": {},
   "source": [
    "# Command lines to insert contents of csv files into SQL tables"
   ]
  },
  {
   "cell_type": "markdown",
   "id": "7e7f1bc0",
   "metadata": {},
   "source": [
    "SET GLOBAL local_infile=1;"
   ]
  },
  {
   "cell_type": "code",
   "execution_count": 9,
   "id": "dd380f36",
   "metadata": {
    "scrolled": true
   },
   "outputs": [
    {
     "name": "stdout",
     "output_type": "stream",
     "text": [
      "mysql -ucesar -pmysql92@ --local-infile HDL_Project -e \"LOAD DATA LOCAL INFILE 'sima_co.csv'  INTO TABLE sima_co FIELDS TERMINATED BY ',' LINES TERMINATED BY '\\n' IGNORE 1 ROWS\"; \n",
      "mysql -ucesar -pmysql92@ --local-infile HDL_Project -e \"LOAD DATA LOCAL INFILE 'sima_no.csv'  INTO TABLE sima_no FIELDS TERMINATED BY ',' LINES TERMINATED BY '\\n' IGNORE 1 ROWS\"; \n",
      "mysql -ucesar -pmysql92@ --local-infile HDL_Project -e \"LOAD DATA LOCAL INFILE 'sima_no2.csv'  INTO TABLE sima_no2 FIELDS TERMINATED BY ',' LINES TERMINATED BY '\\n' IGNORE 1 ROWS\"; \n",
      "mysql -ucesar -pmysql92@ --local-infile HDL_Project -e \"LOAD DATA LOCAL INFILE 'sima_nox.csv'  INTO TABLE sima_nox FIELDS TERMINATED BY ',' LINES TERMINATED BY '\\n' IGNORE 1 ROWS\"; \n",
      "mysql -ucesar -pmysql92@ --local-infile HDL_Project -e \"LOAD DATA LOCAL INFILE 'sima_o3.csv'  INTO TABLE sima_o3 FIELDS TERMINATED BY ',' LINES TERMINATED BY '\\n' IGNORE 1 ROWS\"; \n",
      "mysql -ucesar -pmysql92@ --local-infile HDL_Project -e \"LOAD DATA LOCAL INFILE 'sima_pm10.csv'  INTO TABLE sima_pm10 FIELDS TERMINATED BY ',' LINES TERMINATED BY '\\n' IGNORE 1 ROWS\"; \n",
      "mysql -ucesar -pmysql92@ --local-infile HDL_Project -e \"LOAD DATA LOCAL INFILE 'sima_pm25.csv'  INTO TABLE sima_pm25 FIELDS TERMINATED BY ',' LINES TERMINATED BY '\\n' IGNORE 1 ROWS\"; \n",
      "mysql -ucesar -pmysql92@ --local-infile HDL_Project -e \"LOAD DATA LOCAL INFILE 'sima_prs.csv'  INTO TABLE sima_prs FIELDS TERMINATED BY ',' LINES TERMINATED BY '\\n' IGNORE 1 ROWS\"; \n",
      "mysql -ucesar -pmysql92@ --local-infile HDL_Project -e \"LOAD DATA LOCAL INFILE 'sima_rainf.csv'  INTO TABLE sima_rainf FIELDS TERMINATED BY ',' LINES TERMINATED BY '\\n' IGNORE 1 ROWS\"; \n",
      "mysql -ucesar -pmysql92@ --local-infile HDL_Project -e \"LOAD DATA LOCAL INFILE 'sima_rh.csv'  INTO TABLE sima_rh FIELDS TERMINATED BY ',' LINES TERMINATED BY '\\n' IGNORE 1 ROWS\"; \n",
      "mysql -ucesar -pmysql92@ --local-infile HDL_Project -e \"LOAD DATA LOCAL INFILE 'sima_so2.csv'  INTO TABLE sima_so2 FIELDS TERMINATED BY ',' LINES TERMINATED BY '\\n' IGNORE 1 ROWS\"; \n",
      "mysql -ucesar -pmysql92@ --local-infile HDL_Project -e \"LOAD DATA LOCAL INFILE 'sima_sr.csv'  INTO TABLE sima_sr FIELDS TERMINATED BY ',' LINES TERMINATED BY '\\n' IGNORE 1 ROWS\"; \n",
      "mysql -ucesar -pmysql92@ --local-infile HDL_Project -e \"LOAD DATA LOCAL INFILE 'sima_tout.csv'  INTO TABLE sima_tout FIELDS TERMINATED BY ',' LINES TERMINATED BY '\\n' IGNORE 1 ROWS\"; \n",
      "mysql -ucesar -pmysql92@ --local-infile HDL_Project -e \"LOAD DATA LOCAL INFILE 'sima_wdr.csv'  INTO TABLE sima_wdr FIELDS TERMINATED BY ',' LINES TERMINATED BY '\\n' IGNORE 1 ROWS\"; \n",
      "mysql -ucesar -pmysql92@ --local-infile HDL_Project -e \"LOAD DATA LOCAL INFILE 'sima_wsr.csv'  INTO TABLE sima_wsr FIELDS TERMINATED BY ',' LINES TERMINATED BY '\\n' IGNORE 1 ROWS\"; \n"
     ]
    }
   ],
   "source": [
    "# Command line. Insert CSV files into created MySQL tables\n",
    "for i in files_list:\n",
    "    print(\"mysql -ucesar -pmysql92@ --local-infile HDL_Project -e \\\"LOAD DATA LOCAL INFILE \\'{}.csv\\'  INTO TABLE {} FIELDS TERMINATED BY \\',\\' LINES TERMINATED BY \\'\\\\n\\' IGNORE 1 ROWS\\\"; \".format(i, i))"
   ]
  },
  {
   "cell_type": "markdown",
   "id": "dd544a76",
   "metadata": {},
   "source": [
    "# Backup SQL commands"
   ]
  },
  {
   "cell_type": "code",
   "execution_count": 10,
   "id": "b15d2644",
   "metadata": {},
   "outputs": [
    {
     "data": {
      "text/plain": [
       "['sima_co',\n",
       " 'sima_no',\n",
       " 'sima_no2',\n",
       " 'sima_nox',\n",
       " 'sima_o3',\n",
       " 'sima_pm10',\n",
       " 'sima_pm25',\n",
       " 'sima_prs',\n",
       " 'sima_rainf',\n",
       " 'sima_rh',\n",
       " 'sima_so2',\n",
       " 'sima_sr',\n",
       " 'sima_tout',\n",
       " 'sima_wdr',\n",
       " 'sima_wsr']"
      ]
     },
     "execution_count": 10,
     "metadata": {},
     "output_type": "execute_result"
    }
   ],
   "source": [
    "files_list"
   ]
  },
  {
   "cell_type": "code",
   "execution_count": 11,
   "id": "894cdddb",
   "metadata": {},
   "outputs": [
    {
     "name": "stdout",
     "output_type": "stream",
     "text": [
      "DROP TABLE HDL_Project.`sima_co`;\n",
      "DROP TABLE HDL_Project.`sima_no`;\n",
      "DROP TABLE HDL_Project.`sima_no2`;\n",
      "DROP TABLE HDL_Project.`sima_nox`;\n",
      "DROP TABLE HDL_Project.`sima_o3`;\n",
      "DROP TABLE HDL_Project.`sima_pm10`;\n",
      "DROP TABLE HDL_Project.`sima_pm25`;\n",
      "DROP TABLE HDL_Project.`sima_prs`;\n",
      "DROP TABLE HDL_Project.`sima_rainf`;\n",
      "DROP TABLE HDL_Project.`sima_rh`;\n",
      "DROP TABLE HDL_Project.`sima_so2`;\n",
      "DROP TABLE HDL_Project.`sima_sr`;\n",
      "DROP TABLE HDL_Project.`sima_tout`;\n",
      "DROP TABLE HDL_Project.`sima_wdr`;\n",
      "DROP TABLE HDL_Project.`sima_wsr`;\n"
     ]
    }
   ],
   "source": [
    "# DROP TABLE command\n",
    "for i in files_list:\n",
    "    print(\"DROP TABLE HDL_Project.`{}`;\".format(i))"
   ]
  },
  {
   "cell_type": "markdown",
   "id": "b94e3bfb",
   "metadata": {},
   "source": [
    "# View creation\n",
    "A view will be created for each station."
   ]
  },
  {
   "cell_type": "code",
   "execution_count": 12,
   "id": "4e26d9fe",
   "metadata": {},
   "outputs": [],
   "source": [
    "col_names = [i[0] for i in qdata(\"SELECT `station_code` FROM `cat_stations`\")]\n",
    "\n",
    "files_list \n",
    "\n",
    "params_list = [i[5:] for i in files_list]"
   ]
  },
  {
   "cell_type": "code",
   "execution_count": 13,
   "id": "4ccba26a",
   "metadata": {},
   "outputs": [
    {
     "data": {
      "text/plain": [
       "['sima_co',\n",
       " 'sima_no',\n",
       " 'sima_no2',\n",
       " 'sima_nox',\n",
       " 'sima_o3',\n",
       " 'sima_pm10',\n",
       " 'sima_pm25',\n",
       " 'sima_prs',\n",
       " 'sima_rainf',\n",
       " 'sima_rh',\n",
       " 'sima_so2',\n",
       " 'sima_sr',\n",
       " 'sima_tout',\n",
       " 'sima_wdr',\n",
       " 'sima_wsr']"
      ]
     },
     "execution_count": 13,
     "metadata": {},
     "output_type": "execute_result"
    }
   ],
   "source": [
    "files_list"
   ]
  },
  {
   "cell_type": "code",
   "execution_count": 14,
   "id": "f36ccb41",
   "metadata": {
    "scrolled": false
   },
   "outputs": [
    {
     "name": "stdout",
     "output_type": "stream",
     "text": [
      "CREATE VIEW sima_station_SE AS \n",
      "Select l0.datetime, l0.CE as co, l1.SE as no, l2.SE as no2, l3.SE as nox, l4.SE as o3, l5.SE as pm10, l6.SE as pm25, l7.SE as prs, l8.SE as rainf, l9.SE as rh, l10.SE as so2, l11.SE as sr, l12.SE as tout, l13.SE as wdr, l14.SE as wsr\n",
      "from sima_co l0  left join sima_no l1 ON l0.datetime = l1.datetime left join sima_no2 l2 ON l0.datetime = l2.datetime left join sima_nox l3 ON l0.datetime = l3.datetime left join sima_o3 l4 ON l0.datetime = l4.datetime left join sima_pm10 l5 ON l0.datetime = l5.datetime left join sima_pm25 l6 ON l0.datetime = l6.datetime left join sima_prs l7 ON l0.datetime = l7.datetime left join sima_rainf l8 ON l0.datetime = l8.datetime left join sima_rh l9 ON l0.datetime = l9.datetime left join sima_so2 l10 ON l0.datetime = l10.datetime left join sima_sr l11 ON l0.datetime = l11.datetime left join sima_tout l12 ON l0.datetime = l12.datetime left join sima_wdr l13 ON l0.datetime = l13.datetime left join sima_wsr l14 ON l0.datetime = l14.datetime;\n",
      "\n",
      "CREATE VIEW sima_station_NE AS \n",
      "Select l0.datetime, l0.CE as co, l1.NE as no, l2.NE as no2, l3.NE as nox, l4.NE as o3, l5.NE as pm10, l6.NE as pm25, l7.NE as prs, l8.NE as rainf, l9.NE as rh, l10.NE as so2, l11.NE as sr, l12.NE as tout, l13.NE as wdr, l14.NE as wsr\n",
      "from sima_co l0  left join sima_no l1 ON l0.datetime = l1.datetime left join sima_no2 l2 ON l0.datetime = l2.datetime left join sima_nox l3 ON l0.datetime = l3.datetime left join sima_o3 l4 ON l0.datetime = l4.datetime left join sima_pm10 l5 ON l0.datetime = l5.datetime left join sima_pm25 l6 ON l0.datetime = l6.datetime left join sima_prs l7 ON l0.datetime = l7.datetime left join sima_rainf l8 ON l0.datetime = l8.datetime left join sima_rh l9 ON l0.datetime = l9.datetime left join sima_so2 l10 ON l0.datetime = l10.datetime left join sima_sr l11 ON l0.datetime = l11.datetime left join sima_tout l12 ON l0.datetime = l12.datetime left join sima_wdr l13 ON l0.datetime = l13.datetime left join sima_wsr l14 ON l0.datetime = l14.datetime;\n",
      "\n",
      "CREATE VIEW sima_station_CE AS \n",
      "Select l0.datetime, l0.CE as co, l1.CE as no, l2.CE as no2, l3.CE as nox, l4.CE as o3, l5.CE as pm10, l6.CE as pm25, l7.CE as prs, l8.CE as rainf, l9.CE as rh, l10.CE as so2, l11.CE as sr, l12.CE as tout, l13.CE as wdr, l14.CE as wsr\n",
      "from sima_co l0  left join sima_no l1 ON l0.datetime = l1.datetime left join sima_no2 l2 ON l0.datetime = l2.datetime left join sima_nox l3 ON l0.datetime = l3.datetime left join sima_o3 l4 ON l0.datetime = l4.datetime left join sima_pm10 l5 ON l0.datetime = l5.datetime left join sima_pm25 l6 ON l0.datetime = l6.datetime left join sima_prs l7 ON l0.datetime = l7.datetime left join sima_rainf l8 ON l0.datetime = l8.datetime left join sima_rh l9 ON l0.datetime = l9.datetime left join sima_so2 l10 ON l0.datetime = l10.datetime left join sima_sr l11 ON l0.datetime = l11.datetime left join sima_tout l12 ON l0.datetime = l12.datetime left join sima_wdr l13 ON l0.datetime = l13.datetime left join sima_wsr l14 ON l0.datetime = l14.datetime;\n",
      "\n",
      "CREATE VIEW sima_station_NO AS \n",
      "Select l0.datetime, l0.CE as co, l1.NO as no, l2.NO as no2, l3.NO as nox, l4.NO as o3, l5.NO as pm10, l6.NO as pm25, l7.NO as prs, l8.NO as rainf, l9.NO as rh, l10.NO as so2, l11.NO as sr, l12.NO as tout, l13.NO as wdr, l14.NO as wsr\n",
      "from sima_co l0  left join sima_no l1 ON l0.datetime = l1.datetime left join sima_no2 l2 ON l0.datetime = l2.datetime left join sima_nox l3 ON l0.datetime = l3.datetime left join sima_o3 l4 ON l0.datetime = l4.datetime left join sima_pm10 l5 ON l0.datetime = l5.datetime left join sima_pm25 l6 ON l0.datetime = l6.datetime left join sima_prs l7 ON l0.datetime = l7.datetime left join sima_rainf l8 ON l0.datetime = l8.datetime left join sima_rh l9 ON l0.datetime = l9.datetime left join sima_so2 l10 ON l0.datetime = l10.datetime left join sima_sr l11 ON l0.datetime = l11.datetime left join sima_tout l12 ON l0.datetime = l12.datetime left join sima_wdr l13 ON l0.datetime = l13.datetime left join sima_wsr l14 ON l0.datetime = l14.datetime;\n",
      "\n",
      "CREATE VIEW sima_station_SO AS \n",
      "Select l0.datetime, l0.CE as co, l1.SO as no, l2.SO as no2, l3.SO as nox, l4.SO as o3, l5.SO as pm10, l6.SO as pm25, l7.SO as prs, l8.SO as rainf, l9.SO as rh, l10.SO as so2, l11.SO as sr, l12.SO as tout, l13.SO as wdr, l14.SO as wsr\n",
      "from sima_co l0  left join sima_no l1 ON l0.datetime = l1.datetime left join sima_no2 l2 ON l0.datetime = l2.datetime left join sima_nox l3 ON l0.datetime = l3.datetime left join sima_o3 l4 ON l0.datetime = l4.datetime left join sima_pm10 l5 ON l0.datetime = l5.datetime left join sima_pm25 l6 ON l0.datetime = l6.datetime left join sima_prs l7 ON l0.datetime = l7.datetime left join sima_rainf l8 ON l0.datetime = l8.datetime left join sima_rh l9 ON l0.datetime = l9.datetime left join sima_so2 l10 ON l0.datetime = l10.datetime left join sima_sr l11 ON l0.datetime = l11.datetime left join sima_tout l12 ON l0.datetime = l12.datetime left join sima_wdr l13 ON l0.datetime = l13.datetime left join sima_wsr l14 ON l0.datetime = l14.datetime;\n",
      "\n",
      "CREATE VIEW sima_station_NO2 AS \n",
      "Select l0.datetime, l0.CE as co, l1.NO2 as no, l2.NO2 as no2, l3.NO2 as nox, l4.NO2 as o3, l5.NO2 as pm10, l6.NO2 as pm25, l7.NO2 as prs, l8.NO2 as rainf, l9.NO2 as rh, l10.NO2 as so2, l11.NO2 as sr, l12.NO2 as tout, l13.NO2 as wdr, l14.NO2 as wsr\n",
      "from sima_co l0  left join sima_no l1 ON l0.datetime = l1.datetime left join sima_no2 l2 ON l0.datetime = l2.datetime left join sima_nox l3 ON l0.datetime = l3.datetime left join sima_o3 l4 ON l0.datetime = l4.datetime left join sima_pm10 l5 ON l0.datetime = l5.datetime left join sima_pm25 l6 ON l0.datetime = l6.datetime left join sima_prs l7 ON l0.datetime = l7.datetime left join sima_rainf l8 ON l0.datetime = l8.datetime left join sima_rh l9 ON l0.datetime = l9.datetime left join sima_so2 l10 ON l0.datetime = l10.datetime left join sima_sr l11 ON l0.datetime = l11.datetime left join sima_tout l12 ON l0.datetime = l12.datetime left join sima_wdr l13 ON l0.datetime = l13.datetime left join sima_wsr l14 ON l0.datetime = l14.datetime;\n",
      "\n",
      "CREATE VIEW sima_station_NTE AS \n",
      "Select l0.datetime, l0.CE as co, l1.NTE as no, l2.NTE as no2, l3.NTE as nox, l4.NTE as o3, l5.NTE as pm10, l6.NTE as pm25, l7.NTE as prs, l8.NTE as rainf, l9.NTE as rh, l10.NTE as so2, l11.NTE as sr, l12.NTE as tout, l13.NTE as wdr, l14.NTE as wsr\n",
      "from sima_co l0  left join sima_no l1 ON l0.datetime = l1.datetime left join sima_no2 l2 ON l0.datetime = l2.datetime left join sima_nox l3 ON l0.datetime = l3.datetime left join sima_o3 l4 ON l0.datetime = l4.datetime left join sima_pm10 l5 ON l0.datetime = l5.datetime left join sima_pm25 l6 ON l0.datetime = l6.datetime left join sima_prs l7 ON l0.datetime = l7.datetime left join sima_rainf l8 ON l0.datetime = l8.datetime left join sima_rh l9 ON l0.datetime = l9.datetime left join sima_so2 l10 ON l0.datetime = l10.datetime left join sima_sr l11 ON l0.datetime = l11.datetime left join sima_tout l12 ON l0.datetime = l12.datetime left join sima_wdr l13 ON l0.datetime = l13.datetime left join sima_wsr l14 ON l0.datetime = l14.datetime;\n",
      "\n",
      "CREATE VIEW sima_station_NE2 AS \n",
      "Select l0.datetime, l0.CE as co, l1.NE2 as no, l2.NE2 as no2, l3.NE2 as nox, l4.NE2 as o3, l5.NE2 as pm10, l6.NE2 as pm25, l7.NE2 as prs, l8.NE2 as rainf, l9.NE2 as rh, l10.NE2 as so2, l11.NE2 as sr, l12.NE2 as tout, l13.NE2 as wdr, l14.NE2 as wsr\n",
      "from sima_co l0  left join sima_no l1 ON l0.datetime = l1.datetime left join sima_no2 l2 ON l0.datetime = l2.datetime left join sima_nox l3 ON l0.datetime = l3.datetime left join sima_o3 l4 ON l0.datetime = l4.datetime left join sima_pm10 l5 ON l0.datetime = l5.datetime left join sima_pm25 l6 ON l0.datetime = l6.datetime left join sima_prs l7 ON l0.datetime = l7.datetime left join sima_rainf l8 ON l0.datetime = l8.datetime left join sima_rh l9 ON l0.datetime = l9.datetime left join sima_so2 l10 ON l0.datetime = l10.datetime left join sima_sr l11 ON l0.datetime = l11.datetime left join sima_tout l12 ON l0.datetime = l12.datetime left join sima_wdr l13 ON l0.datetime = l13.datetime left join sima_wsr l14 ON l0.datetime = l14.datetime;\n",
      "\n",
      "CREATE VIEW sima_station_SE2 AS \n",
      "Select l0.datetime, l0.CE as co, l1.SE2 as no, l2.SE2 as no2, l3.SE2 as nox, l4.SE2 as o3, l5.SE2 as pm10, l6.SE2 as pm25, l7.SE2 as prs, l8.SE2 as rainf, l9.SE2 as rh, l10.SE2 as so2, l11.SE2 as sr, l12.SE2 as tout, l13.SE2 as wdr, l14.SE2 as wsr\n",
      "from sima_co l0  left join sima_no l1 ON l0.datetime = l1.datetime left join sima_no2 l2 ON l0.datetime = l2.datetime left join sima_nox l3 ON l0.datetime = l3.datetime left join sima_o3 l4 ON l0.datetime = l4.datetime left join sima_pm10 l5 ON l0.datetime = l5.datetime left join sima_pm25 l6 ON l0.datetime = l6.datetime left join sima_prs l7 ON l0.datetime = l7.datetime left join sima_rainf l8 ON l0.datetime = l8.datetime left join sima_rh l9 ON l0.datetime = l9.datetime left join sima_so2 l10 ON l0.datetime = l10.datetime left join sima_sr l11 ON l0.datetime = l11.datetime left join sima_tout l12 ON l0.datetime = l12.datetime left join sima_wdr l13 ON l0.datetime = l13.datetime left join sima_wsr l14 ON l0.datetime = l14.datetime;\n",
      "\n",
      "CREATE VIEW sima_station_SO2 AS \n",
      "Select l0.datetime, l0.CE as co, l1.SO2 as no, l2.SO2 as no2, l3.SO2 as nox, l4.SO2 as o3, l5.SO2 as pm10, l6.SO2 as pm25, l7.SO2 as prs, l8.SO2 as rainf, l9.SO2 as rh, l10.SO2 as so2, l11.SO2 as sr, l12.SO2 as tout, l13.SO2 as wdr, l14.SO2 as wsr\n",
      "from sima_co l0  left join sima_no l1 ON l0.datetime = l1.datetime left join sima_no2 l2 ON l0.datetime = l2.datetime left join sima_nox l3 ON l0.datetime = l3.datetime left join sima_o3 l4 ON l0.datetime = l4.datetime left join sima_pm10 l5 ON l0.datetime = l5.datetime left join sima_pm25 l6 ON l0.datetime = l6.datetime left join sima_prs l7 ON l0.datetime = l7.datetime left join sima_rainf l8 ON l0.datetime = l8.datetime left join sima_rh l9 ON l0.datetime = l9.datetime left join sima_so2 l10 ON l0.datetime = l10.datetime left join sima_sr l11 ON l0.datetime = l11.datetime left join sima_tout l12 ON l0.datetime = l12.datetime left join sima_wdr l13 ON l0.datetime = l13.datetime left join sima_wsr l14 ON l0.datetime = l14.datetime;\n",
      "\n",
      "CREATE VIEW sima_station_SE3 AS \n",
      "Select l0.datetime, l0.CE as co, l1.SE3 as no, l2.SE3 as no2, l3.SE3 as nox, l4.SE3 as o3, l5.SE3 as pm10, l6.SE3 as pm25, l7.SE3 as prs, l8.SE3 as rainf, l9.SE3 as rh, l10.SE3 as so2, l11.SE3 as sr, l12.SE3 as tout, l13.SE3 as wdr, l14.SE3 as wsr\n",
      "from sima_co l0  left join sima_no l1 ON l0.datetime = l1.datetime left join sima_no2 l2 ON l0.datetime = l2.datetime left join sima_nox l3 ON l0.datetime = l3.datetime left join sima_o3 l4 ON l0.datetime = l4.datetime left join sima_pm10 l5 ON l0.datetime = l5.datetime left join sima_pm25 l6 ON l0.datetime = l6.datetime left join sima_prs l7 ON l0.datetime = l7.datetime left join sima_rainf l8 ON l0.datetime = l8.datetime left join sima_rh l9 ON l0.datetime = l9.datetime left join sima_so2 l10 ON l0.datetime = l10.datetime left join sima_sr l11 ON l0.datetime = l11.datetime left join sima_tout l12 ON l0.datetime = l12.datetime left join sima_wdr l13 ON l0.datetime = l13.datetime left join sima_wsr l14 ON l0.datetime = l14.datetime;\n",
      "\n",
      "CREATE VIEW sima_station_SUR AS \n",
      "Select l0.datetime, l0.CE as co, l1.SUR as no, l2.SUR as no2, l3.SUR as nox, l4.SUR as o3, l5.SUR as pm10, l6.SUR as pm25, l7.SUR as prs, l8.SUR as rainf, l9.SUR as rh, l10.SUR as so2, l11.SUR as sr, l12.SUR as tout, l13.SUR as wdr, l14.SUR as wsr\n",
      "from sima_co l0  left join sima_no l1 ON l0.datetime = l1.datetime left join sima_no2 l2 ON l0.datetime = l2.datetime left join sima_nox l3 ON l0.datetime = l3.datetime left join sima_o3 l4 ON l0.datetime = l4.datetime left join sima_pm10 l5 ON l0.datetime = l5.datetime left join sima_pm25 l6 ON l0.datetime = l6.datetime left join sima_prs l7 ON l0.datetime = l7.datetime left join sima_rainf l8 ON l0.datetime = l8.datetime left join sima_rh l9 ON l0.datetime = l9.datetime left join sima_so2 l10 ON l0.datetime = l10.datetime left join sima_sr l11 ON l0.datetime = l11.datetime left join sima_tout l12 ON l0.datetime = l12.datetime left join sima_wdr l13 ON l0.datetime = l13.datetime left join sima_wsr l14 ON l0.datetime = l14.datetime;\n",
      "\n",
      "CREATE VIEW sima_station_NTE2 AS \n",
      "Select l0.datetime, l0.CE as co, l1.NTE2 as no, l2.NTE2 as no2, l3.NTE2 as nox, l4.NTE2 as o3, l5.NTE2 as pm10, l6.NTE2 as pm25, l7.NTE2 as prs, l8.NTE2 as rainf, l9.NTE2 as rh, l10.NTE2 as so2, l11.NTE2 as sr, l12.NTE2 as tout, l13.NTE2 as wdr, l14.NTE2 as wsr\n",
      "from sima_co l0  left join sima_no l1 ON l0.datetime = l1.datetime left join sima_no2 l2 ON l0.datetime = l2.datetime left join sima_nox l3 ON l0.datetime = l3.datetime left join sima_o3 l4 ON l0.datetime = l4.datetime left join sima_pm10 l5 ON l0.datetime = l5.datetime left join sima_pm25 l6 ON l0.datetime = l6.datetime left join sima_prs l7 ON l0.datetime = l7.datetime left join sima_rainf l8 ON l0.datetime = l8.datetime left join sima_rh l9 ON l0.datetime = l9.datetime left join sima_so2 l10 ON l0.datetime = l10.datetime left join sima_sr l11 ON l0.datetime = l11.datetime left join sima_tout l12 ON l0.datetime = l12.datetime left join sima_wdr l13 ON l0.datetime = l13.datetime left join sima_wsr l14 ON l0.datetime = l14.datetime;\n",
      "\n"
     ]
    }
   ],
   "source": [
    "for c in col_names:\n",
    "    print(\"CREATE VIEW sima_station_{} AS \".format(c))\n",
    "    for t, n, k in zip(files_list, params_list, range(len(params_list))):\n",
    "        if k == 0: \n",
    "            select_cols = \"Select l{}.datetime, l{}.CE as co\".format(k, k)\n",
    "            table_joins = \"from {} l{} \".format(t, k)\n",
    "        else:\n",
    "            select_cols = select_cols + \", l{}.{} as {}\".format(k, c, n)\n",
    "            table_joins = table_joins + \" left join {} l{} ON l0.datetime = l{}.datetime\".format(t, k, k)\n",
    "            \n",
    "    print(select_cols) \n",
    "    print(table_joins + \";\")\n",
    "    print(\"\")"
   ]
  },
  {
   "cell_type": "markdown",
   "id": "6d60db61",
   "metadata": {},
   "source": [
    "# Data Understanding\n",
    "After inserting information to SQL tables"
   ]
  },
  {
   "cell_type": "markdown",
   "id": "cad3caa3",
   "metadata": {},
   "source": [
    "## How many days have less than 24 hours?\n",
    "There are two scenarios:\n",
    "* If there are any, then the date sequence is incomplete.\n",
    "* If the query returns empty, then the sequence is complete\n"
   ]
  },
  {
   "cell_type": "code",
   "execution_count": 15,
   "id": "40f90ae0",
   "metadata": {},
   "outputs": [
    {
     "name": "stdout",
     "output_type": "stream",
     "text": [
      "sima_no\n",
      "Days with less than 24H: [(2015, 8, 1, 1), (2015, 8, 2, 1), (2015, 8, 3, 1), (2015, 8, 4, 1), (2015, 8, 5, 1), (2015, 8, 6, 1), (2015, 8, 7, 1), (2015, 8, 8, 1), (2015, 8, 9, 1), (2015, 8, 10, 1), (2015, 8, 11, 1), (2015, 8, 12, 1), (2015, 8, 13, 1), (2015, 8, 14, 1), (2015, 8, 15, 1), (2015, 8, 16, 1), (2015, 8, 17, 1), (2015, 8, 18, 1), (2015, 8, 19, 1), (2015, 8, 20, 1), (2015, 8, 21, 1), (2015, 8, 22, 1), (2015, 8, 23, 1), (2015, 8, 24, 1), (2015, 8, 25, 1), (2015, 8, 26, 1), (2015, 8, 27, 1), (2015, 8, 28, 1), (2015, 8, 29, 1), (2015, 8, 30, 1), (2015, 8, 31, 1), (2015, 9, 1, 1), (2015, 9, 2, 1), (2015, 9, 3, 1), (2015, 9, 4, 1), (2015, 9, 5, 1), (2015, 9, 6, 1), (2015, 9, 7, 1), (2015, 9, 8, 1), (2015, 9, 9, 1), (2015, 9, 10, 1), (2015, 9, 11, 1), (2015, 9, 12, 1), (2015, 9, 13, 1), (2015, 9, 14, 1), (2015, 9, 15, 1), (2015, 9, 16, 1), (2015, 9, 17, 1), (2015, 9, 18, 1), (2015, 9, 19, 1), (2015, 9, 20, 1), (2015, 9, 21, 1), (2015, 9, 22, 1), (2015, 9, 23, 1), (2015, 9, 24, 1), (2015, 9, 25, 1), (2015, 9, 26, 1), (2015, 9, 27, 1), (2015, 9, 28, 1), (2015, 9, 29, 1), (2015, 9, 30, 1)]\n",
      "\n",
      "sima_nox\n",
      "Days with less than 24H: [(2015, 8, 1, 1), (2015, 8, 2, 1), (2015, 8, 3, 1), (2015, 8, 4, 1), (2015, 8, 5, 1), (2015, 8, 6, 1), (2015, 8, 7, 1), (2015, 8, 8, 1), (2015, 8, 9, 1), (2015, 8, 10, 1), (2015, 8, 11, 1), (2015, 8, 12, 1), (2015, 8, 13, 1), (2015, 8, 14, 1), (2015, 8, 15, 1), (2015, 8, 16, 1), (2015, 8, 17, 1), (2015, 8, 18, 1), (2015, 8, 19, 1), (2015, 8, 20, 1), (2015, 8, 21, 1), (2015, 8, 22, 1), (2015, 8, 23, 1), (2015, 8, 24, 1), (2015, 8, 25, 1), (2015, 8, 26, 1), (2015, 8, 27, 1), (2015, 8, 28, 1), (2015, 8, 29, 1), (2015, 8, 30, 1), (2015, 8, 31, 1), (2015, 9, 1, 1), (2015, 9, 2, 1), (2015, 9, 3, 1), (2015, 9, 4, 1), (2015, 9, 5, 1), (2015, 9, 6, 1), (2015, 9, 7, 1), (2015, 9, 8, 1), (2015, 9, 9, 1), (2015, 9, 10, 1), (2015, 9, 11, 1), (2015, 9, 12, 1), (2015, 9, 13, 1), (2015, 9, 14, 1), (2015, 9, 15, 1), (2015, 9, 16, 1), (2015, 9, 17, 1), (2015, 9, 18, 1), (2015, 9, 19, 1), (2015, 9, 20, 1), (2015, 9, 21, 1), (2015, 9, 22, 1), (2015, 9, 23, 1), (2015, 9, 24, 1), (2015, 9, 25, 1), (2015, 9, 26, 1), (2015, 9, 27, 1), (2015, 9, 28, 1), (2015, 9, 29, 1), (2015, 9, 30, 1)]\n",
      "\n"
     ]
    }
   ],
   "source": [
    "for i in files_list:\n",
    "    sqlq = \"\"\"\n",
    "    select * from (\n",
    "    select year, month, day, count(*) as conteo from (\n",
    "        SELECT *, year(datetime) as `year`, month(datetime) as `month`, day(datetime) as `day`, hour(datetime) as `hour` FROM `{}`\n",
    "    ) s1\n",
    "    GROUP by year, month, day\n",
    "    ) s2\n",
    "    where conteo <24\n",
    "    \"\"\".format(i)\n",
    "    days_evaluation = qdata(sqlq)\n",
    "    \n",
    "    if days_evaluation:\n",
    "        print(\"{}\".format(i))\n",
    "        print(\"Days with less than 24H: {}\".format(days_evaluation))\n",
    "        print(\"\")"
   ]
  },
  {
   "cell_type": "markdown",
   "id": "61587b41",
   "metadata": {},
   "source": [
    "## How many days are per year-month"
   ]
  },
  {
   "cell_type": "code",
   "execution_count": 16,
   "id": "9c2e21eb",
   "metadata": {},
   "outputs": [
    {
     "name": "stdout",
     "output_type": "stream",
     "text": [
      "sima_co\n",
      "[(88,)]\n",
      "\n",
      "sima_no\n",
      "[(89,)]\n",
      "\n",
      "sima_no2\n",
      "[(88,)]\n",
      "\n",
      "sima_nox\n",
      "[(89,)]\n",
      "\n",
      "sima_o3\n",
      "[(88,)]\n",
      "\n",
      "sima_pm10\n",
      "[(88,)]\n",
      "\n",
      "sima_pm25\n",
      "[(88,)]\n",
      "\n",
      "sima_prs\n",
      "[(88,)]\n",
      "\n",
      "sima_rainf\n",
      "[(88,)]\n",
      "\n",
      "sima_rh\n",
      "[(88,)]\n",
      "\n",
      "sima_so2\n",
      "[(88,)]\n",
      "\n",
      "sima_sr\n",
      "[(88,)]\n",
      "\n",
      "sima_tout\n",
      "[(88,)]\n",
      "\n",
      "sima_wdr\n",
      "[(88,)]\n",
      "\n",
      "sima_wsr\n",
      "[(88,)]\n",
      "\n"
     ]
    }
   ],
   "source": [
    "for i in files_list:\n",
    "    sqlq = \"\"\"\n",
    "    select count(*) from (\n",
    "    select year, month, count(*)/24 as conteo from (\n",
    "        SELECT *, year(datetime) as `year`, month(datetime) as `month`, day(datetime) as `day`, hour(datetime) as `hour` FROM `{}`\n",
    "    ) s1\n",
    "    GROUP by year, month\n",
    "    ) s2\n",
    "    \"\"\".format(i)\n",
    "    \n",
    "    print(\"{}\".format(i))\n",
    "    print(qdata(sqlq))\n",
    "    print(\"\")"
   ]
  }
 ],
 "metadata": {
  "kernelspec": {
   "display_name": "Python 3 (ipykernel)",
   "language": "python",
   "name": "python3"
  },
  "language_info": {
   "codemirror_mode": {
    "name": "ipython",
    "version": 3
   },
   "file_extension": ".py",
   "mimetype": "text/x-python",
   "name": "python",
   "nbconvert_exporter": "python",
   "pygments_lexer": "ipython3",
   "version": "3.8.12"
  }
 },
 "nbformat": 4,
 "nbformat_minor": 5
}
