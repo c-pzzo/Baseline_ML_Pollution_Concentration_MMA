{
 "cells": [
  {
   "cell_type": "markdown",
   "id": "29e5000f",
   "metadata": {},
   "source": [
    "# Libraries "
   ]
  },
  {
   "cell_type": "code",
   "execution_count": 1,
   "id": "11e65cf6",
   "metadata": {},
   "outputs": [
    {
     "name": "stdout",
     "output_type": "stream",
     "text": [
      "User information is ready!\n"
     ]
    }
   ],
   "source": [
    "%run \"/home/cesar/Python_NBs/HDL_Project/Mini HDL/Baseline_ML_Pollution_Concentration_MMA/global_fv.ipynb\""
   ]
  },
  {
   "cell_type": "code",
   "execution_count": 2,
   "id": "4c4fdd1b",
   "metadata": {},
   "outputs": [
    {
     "ename": "ImportError",
     "evalue": "/home/cesar/anaconda3/envs/hdl/bin/../lib/libstdc++.so.6: version `GLIBCXX_3.4.30' not found (required by /home/cesar/anaconda3/envs/hdl/lib/python3.8/site-packages/scipy/fft/_pocketfft/pypocketfft.cpython-38-x86_64-linux-gnu.so)",
     "output_type": "error",
     "traceback": [
      "\u001b[0;31m---------------------------------------------------------------------------\u001b[0m",
      "\u001b[0;31mImportError\u001b[0m                               Traceback (most recent call last)",
      "\u001b[0;32m/tmp/ipykernel_44834/2732340957.py\u001b[0m in \u001b[0;36m<module>\u001b[0;34m\u001b[0m\n\u001b[1;32m      3\u001b[0m \u001b[0;32mfrom\u001b[0m \u001b[0mfastdtw\u001b[0m \u001b[0;32mimport\u001b[0m \u001b[0mfastdtw\u001b[0m\u001b[0;34m\u001b[0m\u001b[0;34m\u001b[0m\u001b[0m\n\u001b[1;32m      4\u001b[0m \u001b[0;32mfrom\u001b[0m \u001b[0mscipy\u001b[0m\u001b[0;34m.\u001b[0m\u001b[0mspatial\u001b[0m\u001b[0;34m.\u001b[0m\u001b[0mdistance\u001b[0m \u001b[0;32mimport\u001b[0m \u001b[0meuclidean\u001b[0m\u001b[0;34m\u001b[0m\u001b[0;34m\u001b[0m\u001b[0m\n\u001b[0;32m----> 5\u001b[0;31m \u001b[0;32mfrom\u001b[0m \u001b[0mstatsmodels\u001b[0m\u001b[0;34m.\u001b[0m\u001b[0mtsa\u001b[0m\u001b[0;34m.\u001b[0m\u001b[0mseasonal\u001b[0m \u001b[0;32mimport\u001b[0m \u001b[0mseasonal_decompose\u001b[0m\u001b[0;34m\u001b[0m\u001b[0;34m\u001b[0m\u001b[0m\n\u001b[0m\u001b[1;32m      6\u001b[0m \u001b[0;32mfrom\u001b[0m \u001b[0mstatsmodels\u001b[0m\u001b[0;34m.\u001b[0m\u001b[0mtsa\u001b[0m\u001b[0;34m.\u001b[0m\u001b[0mstattools\u001b[0m \u001b[0;32mimport\u001b[0m \u001b[0madfuller\u001b[0m\u001b[0;34m\u001b[0m\u001b[0;34m\u001b[0m\u001b[0m\n",
      "\u001b[0;32m~/anaconda3/envs/hdl/lib/python3.8/site-packages/statsmodels/tsa/seasonal.py\u001b[0m in \u001b[0;36m<module>\u001b[0;34m\u001b[0m\n\u001b[1;32m      8\u001b[0m \u001b[0;32mfrom\u001b[0m \u001b[0mstatsmodels\u001b[0m\u001b[0;34m.\u001b[0m\u001b[0mtools\u001b[0m\u001b[0;34m.\u001b[0m\u001b[0mvalidation\u001b[0m \u001b[0;32mimport\u001b[0m \u001b[0mPandasWrapper\u001b[0m\u001b[0;34m,\u001b[0m \u001b[0marray_like\u001b[0m\u001b[0;34m\u001b[0m\u001b[0;34m\u001b[0m\u001b[0m\n\u001b[1;32m      9\u001b[0m \u001b[0;32mfrom\u001b[0m \u001b[0mstatsmodels\u001b[0m\u001b[0;34m.\u001b[0m\u001b[0mtsa\u001b[0m\u001b[0;34m.\u001b[0m\u001b[0m_stl\u001b[0m \u001b[0;32mimport\u001b[0m \u001b[0mSTL\u001b[0m\u001b[0;34m\u001b[0m\u001b[0;34m\u001b[0m\u001b[0m\n\u001b[0;32m---> 10\u001b[0;31m \u001b[0;32mfrom\u001b[0m \u001b[0mstatsmodels\u001b[0m\u001b[0;34m.\u001b[0m\u001b[0mtsa\u001b[0m\u001b[0;34m.\u001b[0m\u001b[0mfilters\u001b[0m\u001b[0;34m.\u001b[0m\u001b[0mfiltertools\u001b[0m \u001b[0;32mimport\u001b[0m \u001b[0mconvolution_filter\u001b[0m\u001b[0;34m\u001b[0m\u001b[0;34m\u001b[0m\u001b[0m\n\u001b[0m\u001b[1;32m     11\u001b[0m \u001b[0;32mfrom\u001b[0m \u001b[0mstatsmodels\u001b[0m\u001b[0;34m.\u001b[0m\u001b[0mtsa\u001b[0m\u001b[0;34m.\u001b[0m\u001b[0mtsatools\u001b[0m \u001b[0;32mimport\u001b[0m \u001b[0mfreq_to_period\u001b[0m\u001b[0;34m\u001b[0m\u001b[0;34m\u001b[0m\u001b[0m\n\u001b[1;32m     12\u001b[0m \u001b[0;34m\u001b[0m\u001b[0m\n",
      "\u001b[0;32m~/anaconda3/envs/hdl/lib/python3.8/site-packages/statsmodels/tsa/filters/filtertools.py\u001b[0m in \u001b[0;36m<module>\u001b[0;34m\u001b[0m\n\u001b[1;32m     14\u001b[0m \u001b[0;34m\u001b[0m\u001b[0m\n\u001b[1;32m     15\u001b[0m \u001b[0;32mimport\u001b[0m \u001b[0mnumpy\u001b[0m \u001b[0;32mas\u001b[0m \u001b[0mnp\u001b[0m\u001b[0;34m\u001b[0m\u001b[0;34m\u001b[0m\u001b[0m\n\u001b[0;32m---> 16\u001b[0;31m \u001b[0;32mimport\u001b[0m \u001b[0mscipy\u001b[0m\u001b[0;34m.\u001b[0m\u001b[0mfftpack\u001b[0m \u001b[0;32mas\u001b[0m \u001b[0mfft\u001b[0m\u001b[0;34m\u001b[0m\u001b[0;34m\u001b[0m\u001b[0m\n\u001b[0m\u001b[1;32m     17\u001b[0m \u001b[0;32mfrom\u001b[0m \u001b[0mscipy\u001b[0m \u001b[0;32mimport\u001b[0m \u001b[0msignal\u001b[0m\u001b[0;34m\u001b[0m\u001b[0;34m\u001b[0m\u001b[0m\n\u001b[1;32m     18\u001b[0m \u001b[0;34m\u001b[0m\u001b[0m\n",
      "\u001b[0;32m~/anaconda3/envs/hdl/lib/python3.8/site-packages/scipy/fftpack/__init__.py\u001b[0m in \u001b[0;36m<module>\u001b[0;34m\u001b[0m\n\u001b[1;32m     92\u001b[0m            ]\n\u001b[1;32m     93\u001b[0m \u001b[0;34m\u001b[0m\u001b[0m\n\u001b[0;32m---> 94\u001b[0;31m \u001b[0;32mfrom\u001b[0m \u001b[0;34m.\u001b[0m\u001b[0m_basic\u001b[0m \u001b[0;32mimport\u001b[0m \u001b[0;34m*\u001b[0m\u001b[0;34m\u001b[0m\u001b[0;34m\u001b[0m\u001b[0m\n\u001b[0m\u001b[1;32m     95\u001b[0m \u001b[0;32mfrom\u001b[0m \u001b[0;34m.\u001b[0m\u001b[0m_pseudo_diffs\u001b[0m \u001b[0;32mimport\u001b[0m \u001b[0;34m*\u001b[0m\u001b[0;34m\u001b[0m\u001b[0;34m\u001b[0m\u001b[0m\n\u001b[1;32m     96\u001b[0m \u001b[0;32mfrom\u001b[0m \u001b[0;34m.\u001b[0m\u001b[0m_helper\u001b[0m \u001b[0;32mimport\u001b[0m \u001b[0;34m*\u001b[0m\u001b[0;34m\u001b[0m\u001b[0;34m\u001b[0m\u001b[0m\n",
      "\u001b[0;32m~/anaconda3/envs/hdl/lib/python3.8/site-packages/scipy/fftpack/_basic.py\u001b[0m in \u001b[0;36m<module>\u001b[0;34m\u001b[0m\n\u001b[1;32m      6\u001b[0m            'fft2','ifft2']\n\u001b[1;32m      7\u001b[0m \u001b[0;34m\u001b[0m\u001b[0m\n\u001b[0;32m----> 8\u001b[0;31m \u001b[0;32mfrom\u001b[0m \u001b[0mscipy\u001b[0m\u001b[0;34m.\u001b[0m\u001b[0mfft\u001b[0m \u001b[0;32mimport\u001b[0m \u001b[0m_pocketfft\u001b[0m\u001b[0;34m\u001b[0m\u001b[0;34m\u001b[0m\u001b[0m\n\u001b[0m\u001b[1;32m      9\u001b[0m \u001b[0;32mfrom\u001b[0m \u001b[0;34m.\u001b[0m\u001b[0m_helper\u001b[0m \u001b[0;32mimport\u001b[0m \u001b[0m_good_shape\u001b[0m\u001b[0;34m\u001b[0m\u001b[0;34m\u001b[0m\u001b[0m\n\u001b[1;32m     10\u001b[0m \u001b[0;34m\u001b[0m\u001b[0m\n",
      "\u001b[0;32m~/anaconda3/envs/hdl/lib/python3.8/site-packages/scipy/fft/__init__.py\u001b[0m in \u001b[0;36m<module>\u001b[0;34m\u001b[0m\n\u001b[1;32m     89\u001b[0m \u001b[0;32mfrom\u001b[0m \u001b[0;34m.\u001b[0m\u001b[0m_realtransforms\u001b[0m \u001b[0;32mimport\u001b[0m \u001b[0mdct\u001b[0m\u001b[0;34m,\u001b[0m \u001b[0midct\u001b[0m\u001b[0;34m,\u001b[0m \u001b[0mdst\u001b[0m\u001b[0;34m,\u001b[0m \u001b[0midst\u001b[0m\u001b[0;34m,\u001b[0m \u001b[0mdctn\u001b[0m\u001b[0;34m,\u001b[0m \u001b[0midctn\u001b[0m\u001b[0;34m,\u001b[0m \u001b[0mdstn\u001b[0m\u001b[0;34m,\u001b[0m \u001b[0midstn\u001b[0m\u001b[0;34m\u001b[0m\u001b[0;34m\u001b[0m\u001b[0m\n\u001b[1;32m     90\u001b[0m \u001b[0;32mfrom\u001b[0m \u001b[0;34m.\u001b[0m\u001b[0m_fftlog\u001b[0m \u001b[0;32mimport\u001b[0m \u001b[0mfht\u001b[0m\u001b[0;34m,\u001b[0m \u001b[0mifht\u001b[0m\u001b[0;34m,\u001b[0m \u001b[0mfhtoffset\u001b[0m\u001b[0;34m\u001b[0m\u001b[0;34m\u001b[0m\u001b[0m\n\u001b[0;32m---> 91\u001b[0;31m \u001b[0;32mfrom\u001b[0m \u001b[0;34m.\u001b[0m\u001b[0m_helper\u001b[0m \u001b[0;32mimport\u001b[0m \u001b[0mnext_fast_len\u001b[0m\u001b[0;34m\u001b[0m\u001b[0;34m\u001b[0m\u001b[0m\n\u001b[0m\u001b[1;32m     92\u001b[0m from ._backend import (set_backend, skip_backend, set_global_backend,\n\u001b[1;32m     93\u001b[0m                        register_backend)\n",
      "\u001b[0;32m~/anaconda3/envs/hdl/lib/python3.8/site-packages/scipy/fft/_helper.py\u001b[0m in \u001b[0;36m<module>\u001b[0;34m\u001b[0m\n\u001b[1;32m      1\u001b[0m \u001b[0;32mfrom\u001b[0m \u001b[0mfunctools\u001b[0m \u001b[0;32mimport\u001b[0m \u001b[0mupdate_wrapper\u001b[0m\u001b[0;34m,\u001b[0m \u001b[0mlru_cache\u001b[0m\u001b[0;34m\u001b[0m\u001b[0;34m\u001b[0m\u001b[0m\n\u001b[1;32m      2\u001b[0m \u001b[0;34m\u001b[0m\u001b[0m\n\u001b[0;32m----> 3\u001b[0;31m \u001b[0;32mfrom\u001b[0m \u001b[0;34m.\u001b[0m\u001b[0m_pocketfft\u001b[0m \u001b[0;32mimport\u001b[0m \u001b[0mhelper\u001b[0m \u001b[0;32mas\u001b[0m \u001b[0m_helper\u001b[0m\u001b[0;34m\u001b[0m\u001b[0;34m\u001b[0m\u001b[0m\n\u001b[0m\u001b[1;32m      4\u001b[0m \u001b[0;34m\u001b[0m\u001b[0m\n\u001b[1;32m      5\u001b[0m \u001b[0;34m\u001b[0m\u001b[0m\n",
      "\u001b[0;32m~/anaconda3/envs/hdl/lib/python3.8/site-packages/scipy/fft/_pocketfft/__init__.py\u001b[0m in \u001b[0;36m<module>\u001b[0;34m\u001b[0m\n\u001b[1;32m      1\u001b[0m \u001b[0;34m\"\"\" FFT backend using pypocketfft \"\"\"\u001b[0m\u001b[0;34m\u001b[0m\u001b[0;34m\u001b[0m\u001b[0m\n\u001b[1;32m      2\u001b[0m \u001b[0;34m\u001b[0m\u001b[0m\n\u001b[0;32m----> 3\u001b[0;31m \u001b[0;32mfrom\u001b[0m \u001b[0;34m.\u001b[0m\u001b[0mbasic\u001b[0m \u001b[0;32mimport\u001b[0m \u001b[0;34m*\u001b[0m\u001b[0;34m\u001b[0m\u001b[0;34m\u001b[0m\u001b[0m\n\u001b[0m\u001b[1;32m      4\u001b[0m \u001b[0;32mfrom\u001b[0m \u001b[0;34m.\u001b[0m\u001b[0mrealtransforms\u001b[0m \u001b[0;32mimport\u001b[0m \u001b[0;34m*\u001b[0m\u001b[0;34m\u001b[0m\u001b[0;34m\u001b[0m\u001b[0m\n\u001b[1;32m      5\u001b[0m \u001b[0;32mfrom\u001b[0m \u001b[0;34m.\u001b[0m\u001b[0mhelper\u001b[0m \u001b[0;32mimport\u001b[0m \u001b[0;34m*\u001b[0m\u001b[0;34m\u001b[0m\u001b[0;34m\u001b[0m\u001b[0m\n",
      "\u001b[0;32m~/anaconda3/envs/hdl/lib/python3.8/site-packages/scipy/fft/_pocketfft/basic.py\u001b[0m in \u001b[0;36m<module>\u001b[0;34m\u001b[0m\n\u001b[1;32m      4\u001b[0m \u001b[0;32mimport\u001b[0m \u001b[0mnumpy\u001b[0m \u001b[0;32mas\u001b[0m \u001b[0mnp\u001b[0m\u001b[0;34m\u001b[0m\u001b[0;34m\u001b[0m\u001b[0m\n\u001b[1;32m      5\u001b[0m \u001b[0;32mimport\u001b[0m \u001b[0mfunctools\u001b[0m\u001b[0;34m\u001b[0m\u001b[0;34m\u001b[0m\u001b[0m\n\u001b[0;32m----> 6\u001b[0;31m \u001b[0;32mfrom\u001b[0m \u001b[0;34m.\u001b[0m \u001b[0;32mimport\u001b[0m \u001b[0mpypocketfft\u001b[0m \u001b[0;32mas\u001b[0m \u001b[0mpfft\u001b[0m\u001b[0;34m\u001b[0m\u001b[0;34m\u001b[0m\u001b[0m\n\u001b[0m\u001b[1;32m      7\u001b[0m from .helper import (_asfarray, _init_nd_shape_and_axes, _datacopied,\n\u001b[1;32m      8\u001b[0m                      \u001b[0m_fix_shape\u001b[0m\u001b[0;34m,\u001b[0m \u001b[0m_fix_shape_1d\u001b[0m\u001b[0;34m,\u001b[0m \u001b[0m_normalization\u001b[0m\u001b[0;34m,\u001b[0m\u001b[0;34m\u001b[0m\u001b[0;34m\u001b[0m\u001b[0m\n",
      "\u001b[0;31mImportError\u001b[0m: /home/cesar/anaconda3/envs/hdl/bin/../lib/libstdc++.so.6: version `GLIBCXX_3.4.30' not found (required by /home/cesar/anaconda3/envs/hdl/lib/python3.8/site-packages/scipy/fft/_pocketfft/pypocketfft.cpython-38-x86_64-linux-gnu.so)"
     ]
    }
   ],
   "source": [
    "import plotly.express as px\n",
    "import seaborn as sns\n",
    "from fastdtw import fastdtw\n",
    "from scipy.spatial.distance import euclidean\n",
    "from statsmodels.tsa.seasonal import seasonal_decompose\n",
    "from statsmodels.tsa.stattools import adfuller"
   ]
  },
  {
   "cell_type": "markdown",
   "id": "8e977d9a",
   "metadata": {},
   "source": [
    "# User-Defined Functions"
   ]
  },
  {
   "cell_type": "code",
   "execution_count": null,
   "id": "8c3418c7",
   "metadata": {},
   "outputs": [],
   "source": [
    "def melted_data(data, col_name): \n",
    "    features = list(data.columns)\n",
    "    data = data.reset_index(level=0)    \n",
    "    data = pd.melt(data, id_vars =['datetime'], value_vars =features)\n",
    "    data_melt = data.rename(columns = {\"variable\":col_name})\n",
    "    return data_melt"
   ]
  },
  {
   "cell_type": "code",
   "execution_count": null,
   "id": "8eba838d",
   "metadata": {},
   "outputs": [],
   "source": [
    "def data_vis(data, col_name):\n",
    "    data = melted_data(data, col_name)\n",
    "    fig = px.line(data, x='datetime', y=\"value\", color=col_name)\n",
    "    \n",
    "    fig.show()"
   ]
  },
  {
   "cell_type": "code",
   "execution_count": null,
   "id": "a3fa4c19",
   "metadata": {},
   "outputs": [],
   "source": [
    "def dtw_analysis(data):\n",
    "    results = []\n",
    "    cols = list(data.columns)\n",
    "    n_cols = len(cols)\n",
    "    \n",
    "    for i in cols:\n",
    "        for j in cols:\n",
    "            distance, _ = fastdtw(data[i], data[j], dist=euclidean)\n",
    "            results.append(distance)\n",
    "\n",
    "    results = np.array(results)\n",
    "    results = results.reshape((n_cols,n_cols))\n",
    "\n",
    "    results = pd.DataFrame(results, columns = cols)\n",
    "    results[\" \"] = cols\n",
    "    results = results.set_index(\" \")\n",
    "    return results"
   ]
  },
  {
   "cell_type": "code",
   "execution_count": null,
   "id": "cf7a1651",
   "metadata": {},
   "outputs": [],
   "source": [
    "def trend_seasonality_df(data):\n",
    "    count = 0\n",
    "    for col in list(data.columns):\n",
    "\n",
    "        decompose_result_mult = seasonal_decompose(data[[col]])\n",
    "\n",
    "        trend = decompose_result_mult.trend\n",
    "        seasonal = decompose_result_mult.seasonal\n",
    "\n",
    "        if count == 0:\n",
    "            trend_df = pd.DataFrame([trend])\n",
    "        else:    \n",
    "            trend_df = trend_df.append(trend, ignore_index=True)\n",
    "\n",
    "        if count == 0:\n",
    "            seasonal_df = pd.DataFrame([seasonal])\n",
    "        else:    \n",
    "            seasonal_df = seasonal_df.append(seasonal, ignore_index=True)        \n",
    "\n",
    "        count+=1\n",
    "\n",
    "    trend_df = trend_df.transpose()\n",
    "    trend_df.set_axis(list(data.columns), axis=1,inplace=True)\n",
    "\n",
    "    seasonal_df = seasonal_df.transpose()\n",
    "    seasonal_df.set_axis(list(data.columns), axis=1,inplace=True)\n",
    "    \n",
    "    return trend_df, seasonal_df"
   ]
  },
  {
   "cell_type": "code",
   "execution_count": null,
   "id": "e6800faa",
   "metadata": {},
   "outputs": [],
   "source": [
    "def adf_test(data, title = 'Metrics'):\n",
    "    \"\"\"\n",
    "    Augmented Dickey-Fuller test for stationarity\n",
    "    * p-value > 0.05: Data is non-stationary. Fail to reject the null hypothesis (H0). \n",
    "    * p-value <= 0.05: Data is stationary. Reject the null hypothesis (H0).\n",
    "    \"\"\"\n",
    "    \n",
    "    adf = pd.DataFrame({title:[], \"p-value\":[], \"Stationarity\":[]})\n",
    "\n",
    "    for x in data.columns:\n",
    "        result = adfuller(data[x])\n",
    "        p_val = result[1]\n",
    "        txt = \"Non-Stationary\" if p_val > 0.05 else \"Stationary\"\n",
    "        tmp = pd.DataFrame({title:[x], \"p-value\":[p_val], \"Stationarity\":[txt]})\n",
    "        adf = adf.append(tmp, ignore_index=True)\n",
    "        adf = adf.sort_values(\"p-value\", ascending = False)\n",
    "        \n",
    "    return adf.reset_index(drop = True)"
   ]
  },
  {
   "cell_type": "markdown",
   "id": "a7e9d945",
   "metadata": {},
   "source": [
    "# Data"
   ]
  },
  {
   "cell_type": "code",
   "execution_count": null,
   "id": "21d168af",
   "metadata": {},
   "outputs": [],
   "source": [
    "sql_table = \"sima_station_CE\"\n",
    "target = \"pm25\"\n",
    "\n",
    "# Define columns of interest from sql table\n",
    "#     Select all columns:\n",
    "column = \"*\"\n",
    "#     Select specific columns:\n",
    "#column = \"datetime, prs, rainf, rh, sr, tout, wdr, wsr, \" + str(target)\n",
    "\n",
    "# Filter data with WHERE command\n",
    "sql_where = \"where datetime >= \\'2021-03-01\\'\"\n",
    "\n",
    "# Number of time steps per sample\n",
    "n_steps = 24"
   ]
  },
  {
   "cell_type": "code",
   "execution_count": null,
   "id": "d4c6fdaa",
   "metadata": {},
   "outputs": [],
   "source": [
    "# Initialize class to create multivariate samples:\n",
    "multi_ts = multivariate_samples(sql_table, column, sql_where)\n",
    "data = multi_ts.initial_df()"
   ]
  },
  {
   "cell_type": "code",
   "execution_count": null,
   "id": "a96fd466",
   "metadata": {},
   "outputs": [],
   "source": [
    "# Quick fix\n",
    "\n",
    "# 1 ------------------------------------------------------------------------------------------------\n",
    "# Observations:\n",
    "# - Zero pressure exists only in a perfect vacuum, and outer space is the only place where this occurs naturally. \n",
    "#   This means that these are missing measurements\n",
    "#   By context, it can be substituted by its surrounding mean values\n",
    "array_1 = data[\"prs\"]\n",
    "data[\"prs\"] = np.where(array_1 == 0, array_1[array_1>0].mean(), array_1)\n"
   ]
  },
  {
   "cell_type": "code",
   "execution_count": null,
   "id": "8b6b0395",
   "metadata": {},
   "outputs": [],
   "source": [
    "data_dt_index = data.copy()\n",
    "data = data.reset_index()"
   ]
  },
  {
   "cell_type": "code",
   "execution_count": null,
   "id": "6044620b",
   "metadata": {},
   "outputs": [],
   "source": [
    "data_vis(data, \"Time Series\")"
   ]
  },
  {
   "cell_type": "markdown",
   "id": "f6bcc2fe",
   "metadata": {},
   "source": [
    "# Correlation"
   ]
  },
  {
   "cell_type": "code",
   "execution_count": null,
   "id": "290a1abf",
   "metadata": {},
   "outputs": [],
   "source": [
    "# Spearman correlation is applied if the correlation is thought of as non-linear.\n",
    "spearman_matrix = data.drop(\"rainf\", axis = 1).corr(method = \"spearman\")\n",
    "\n",
    "# Hierarchical clustering for the correlation matrix, where similar time series are placed closer to one another.\n",
    "sns.clustermap(spearman_matrix)\n",
    "spearman_matrix"
   ]
  },
  {
   "cell_type": "markdown",
   "id": "1d06022e",
   "metadata": {},
   "source": [
    "## `* Which of them move similarly?`\n",
    "Dynamic Time Warping (DTW) to measure similarity between time series, which may vary in speed."
   ]
  },
  {
   "cell_type": "code",
   "execution_count": null,
   "id": "2bd20231",
   "metadata": {},
   "outputs": [],
   "source": [
    "# A matrix with the similarity distance is calculated for every feature.\n",
    "# The lower the value, the more similar they are.\n",
    "# Obviously, a feature compared with itself will have the lowest value (0).\n",
    "\n",
    "results = dtw_analysis(data_dt_index)\n",
    "results\n",
    "\n",
    "# Distance time warping analysis (DTW) recognized the minimum distance between SO_2 and PM10\n",
    "# PM2.5 has minimum distance with NOx"
   ]
  },
  {
   "cell_type": "code",
   "execution_count": null,
   "id": "eb241f76",
   "metadata": {},
   "outputs": [],
   "source": [
    "results[results>0].min()"
   ]
  },
  {
   "cell_type": "markdown",
   "id": "9f2dad5b",
   "metadata": {},
   "source": [
    "# Trend and seasonality analysis"
   ]
  },
  {
   "cell_type": "code",
   "execution_count": null,
   "id": "bf9ccb37",
   "metadata": {},
   "outputs": [],
   "source": [
    "trend_df, seasonal_df = trend_seasonality_df(data_dt_index.asfreq('H'))"
   ]
  },
  {
   "cell_type": "code",
   "execution_count": null,
   "id": "ee9c2f4f",
   "metadata": {
    "scrolled": false
   },
   "outputs": [],
   "source": [
    "data_vis(trend_df, \"Trend\")"
   ]
  },
  {
   "cell_type": "code",
   "execution_count": null,
   "id": "b1b82695",
   "metadata": {},
   "outputs": [],
   "source": [
    "data_vis(seasonal_df, \"Seasonality\")\n",
    "# It has no seasonality"
   ]
  },
  {
   "cell_type": "markdown",
   "id": "30be3072",
   "metadata": {},
   "source": [
    "# Stationarity test"
   ]
  },
  {
   "cell_type": "code",
   "execution_count": null,
   "id": "ed5cbc20",
   "metadata": {},
   "outputs": [],
   "source": [
    "adf_test(data_dt_index)"
   ]
  }
 ],
 "metadata": {
  "kernelspec": {
   "display_name": "Python 3 (ipykernel)",
   "language": "python",
   "name": "python3"
  },
  "language_info": {
   "codemirror_mode": {
    "name": "ipython",
    "version": 3
   },
   "file_extension": ".py",
   "mimetype": "text/x-python",
   "name": "python",
   "nbconvert_exporter": "python",
   "pygments_lexer": "ipython3",
   "version": "3.8.12"
  }
 },
 "nbformat": 4,
 "nbformat_minor": 5
}
