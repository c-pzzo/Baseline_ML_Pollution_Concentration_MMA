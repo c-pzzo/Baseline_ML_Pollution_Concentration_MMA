{
 "cells": [
  {
   "cell_type": "markdown",
   "id": "45d1331d",
   "metadata": {},
   "source": [
    "# Libraries"
   ]
  },
  {
   "cell_type": "code",
   "execution_count": 12,
   "id": "e1eab494",
   "metadata": {},
   "outputs": [],
   "source": [
    "#pip install basemap-data-hires"
   ]
  },
  {
   "cell_type": "code",
   "execution_count": 13,
   "id": "c63056d2",
   "metadata": {},
   "outputs": [
    {
     "name": "stdout",
     "output_type": "stream",
     "text": [
      "Collecting geopandas\n",
      "  Downloading geopandas-0.13.2-py3-none-any.whl (1.1 MB)\n",
      "\u001b[2K     \u001b[38;2;114;156;31m━━━━━━━━━━━━━━━━━━━━━━━━━━━━━━━━━━━━━━━━\u001b[0m \u001b[32m1.1/1.1 MB\u001b[0m \u001b[31m1.2 MB/s\u001b[0m eta \u001b[36m0:00:00\u001b[0m[31m1.2 MB/s\u001b[0m eta \u001b[36m0:00:01\u001b[0m\n",
      "\u001b[?25hRequirement already satisfied: pyproj>=3.0.1 in /home/cesar/anaconda3/envs/thesis_project/lib/python3.10/site-packages (from geopandas) (3.5.0)\n",
      "Requirement already satisfied: packaging in /home/cesar/anaconda3/envs/thesis_project/lib/python3.10/site-packages (from geopandas) (23.0)\n",
      "Collecting shapely>=1.7.1\n",
      "  Downloading shapely-2.0.1-cp310-cp310-manylinux_2_17_x86_64.manylinux2014_x86_64.whl (2.3 MB)\n",
      "\u001b[2K     \u001b[38;2;114;156;31m━━━━━━━━━━━━━━━━━━━━━━━━━━━━━━━━━━━━━━━━\u001b[0m \u001b[32m2.3/2.3 MB\u001b[0m \u001b[31m755.4 kB/s\u001b[0m eta \u001b[36m0:00:00\u001b[0m[36m0:00:01\u001b[0mm eta \u001b[36m0:00:01\u001b[0m\n",
      "\u001b[?25hRequirement already satisfied: pandas>=1.1.0 in /home/cesar/anaconda3/envs/thesis_project/lib/python3.10/site-packages (from geopandas) (1.5.3)\n",
      "Collecting fiona>=1.8.19\n",
      "  Downloading Fiona-1.9.4.post1-cp310-cp310-manylinux_2_17_x86_64.manylinux2014_x86_64.whl (16.4 MB)\n",
      "\u001b[2K     \u001b[38;2;114;156;31m━━━━━━━━━━━━━━━━━━━━━━━━━━━━━━━━━━━━━━━━\u001b[0m \u001b[32m16.4/16.4 MB\u001b[0m \u001b[31m2.1 MB/s\u001b[0m eta \u001b[36m0:00:00\u001b[0mm eta \u001b[36m0:00:01\u001b[0m[36m0:00:01\u001b[0m\n",
      "\u001b[?25hCollecting cligj>=0.5\n",
      "  Downloading cligj-0.7.2-py3-none-any.whl (7.1 kB)\n",
      "Requirement already satisfied: certifi in /home/cesar/anaconda3/envs/thesis_project/lib/python3.10/site-packages (from fiona>=1.8.19->geopandas) (2023.5.7)\n",
      "Collecting click~=8.0\n",
      "  Downloading click-8.1.3-py3-none-any.whl (96 kB)\n",
      "\u001b[2K     \u001b[38;2;114;156;31m━━━━━━━━━━━━━━━━━━━━━━━━━━━━━━━━━━━━━━━━\u001b[0m \u001b[32m96.6/96.6 kB\u001b[0m \u001b[31m2.7 MB/s\u001b[0m eta \u001b[36m0:00:00\u001b[0m MB/s\u001b[0m eta \u001b[36m0:00:01\u001b[0m\n",
      "\u001b[?25hRequirement already satisfied: attrs>=19.2.0 in /home/cesar/anaconda3/envs/thesis_project/lib/python3.10/site-packages (from fiona>=1.8.19->geopandas) (22.1.0)\n",
      "Collecting click-plugins>=1.0\n",
      "  Downloading click_plugins-1.1.1-py2.py3-none-any.whl (7.5 kB)\n",
      "Requirement already satisfied: six in /home/cesar/anaconda3/envs/thesis_project/lib/python3.10/site-packages (from fiona>=1.8.19->geopandas) (1.16.0)\n",
      "Requirement already satisfied: python-dateutil>=2.8.1 in /home/cesar/anaconda3/envs/thesis_project/lib/python3.10/site-packages (from pandas>=1.1.0->geopandas) (2.8.2)\n",
      "Requirement already satisfied: pytz>=2020.1 in /home/cesar/anaconda3/envs/thesis_project/lib/python3.10/site-packages (from pandas>=1.1.0->geopandas) (2022.7)\n",
      "Requirement already satisfied: numpy>=1.21.0 in /home/cesar/anaconda3/envs/thesis_project/lib/python3.10/site-packages (from pandas>=1.1.0->geopandas) (1.24.3)\n",
      "Installing collected packages: shapely, click, cligj, click-plugins, fiona, geopandas\n",
      "Successfully installed click-8.1.3 click-plugins-1.1.1 cligj-0.7.2 fiona-1.9.4.post1 geopandas-0.13.2 shapely-2.0.1\n",
      "Note: you may need to restart the kernel to use updated packages.\n"
     ]
    }
   ],
   "source": [
    "pip install geopandas"
   ]
  },
  {
   "cell_type": "code",
   "execution_count": 7,
   "id": "494971ad",
   "metadata": {},
   "outputs": [
    {
     "data": {
      "text/plain": [
       "<Figure size 1000x1000 with 0 Axes>"
      ]
     },
     "execution_count": 7,
     "metadata": {},
     "output_type": "execute_result"
    },
    {
     "data": {
      "text/plain": [
       "<Figure size 1000x1000 with 0 Axes>"
      ]
     },
     "metadata": {},
     "output_type": "display_data"
    }
   ],
   "source": [
    "import matplotlib.pyplot as plt\n",
    "from mpl_toolkits.basemap import Basemap\n",
    "plt.figure(figsize=(10, 10))"
   ]
  },
  {
   "cell_type": "code",
   "execution_count": 10,
   "id": "a8ea2573",
   "metadata": {},
   "outputs": [],
   "source": [
    "m = Basemap(projection='lcc', resolution='h', lat_0=25, lon_0=-100, width=1E6, height=1.2E6)  # Adjust the projection parameters as needed"
   ]
  },
  {
   "cell_type": "code",
   "execution_count": 11,
   "id": "67a68682",
   "metadata": {},
   "outputs": [
    {
     "ename": "OSError",
     "evalue": "cannot locate path_to_shapefile.shp",
     "output_type": "error",
     "traceback": [
      "\u001b[0;31m---------------------------------------------------------------------------\u001b[0m",
      "\u001b[0;31mOSError\u001b[0m                                   Traceback (most recent call last)",
      "Cell \u001b[0;32mIn[11], line 1\u001b[0m\n\u001b[0;32m----> 1\u001b[0m \u001b[43mm\u001b[49m\u001b[38;5;241;43m.\u001b[39;49m\u001b[43mreadshapefile\u001b[49m\u001b[43m(\u001b[49m\u001b[38;5;124;43m'\u001b[39;49m\u001b[38;5;124;43mpath_to_shapefile\u001b[39;49m\u001b[38;5;124;43m'\u001b[39;49m\u001b[43m,\u001b[49m\u001b[43m \u001b[49m\u001b[38;5;124;43m'\u001b[39;49m\u001b[38;5;124;43mmexico_shapefile\u001b[39;49m\u001b[38;5;124;43m'\u001b[39;49m\u001b[43m)\u001b[49m  \u001b[38;5;66;03m# Replace 'path_to_shapefile' with the actual file path\u001b[39;00m\n\u001b[1;32m      3\u001b[0m \u001b[38;5;66;03m# Plot the Monterrey Metropolitan Area\u001b[39;00m\n\u001b[1;32m      4\u001b[0m \u001b[38;5;28;01mfor\u001b[39;00m shape_info, shape \u001b[38;5;129;01min\u001b[39;00m \u001b[38;5;28mzip\u001b[39m(m\u001b[38;5;241m.\u001b[39mmexico_shapefile_info, m\u001b[38;5;241m.\u001b[39mmexico_shapefile):\n",
      "File \u001b[0;32m~/anaconda3/envs/thesis_project/lib/python3.10/site-packages/mpl_toolkits/basemap/__init__.py:2136\u001b[0m, in \u001b[0;36mBasemap.readshapefile\u001b[0;34m(self, shapefile, name, drawbounds, zorder, linewidth, color, antialiased, ax, default_encoding)\u001b[0m\n\u001b[1;32m   2134\u001b[0m shp\u001b[38;5;241m.\u001b[39mdefault_encoding \u001b[38;5;241m=\u001b[39m default_encoding\n\u001b[1;32m   2135\u001b[0m \u001b[38;5;28;01mif\u001b[39;00m \u001b[38;5;129;01mnot\u001b[39;00m os\u001b[38;5;241m.\u001b[39mpath\u001b[38;5;241m.\u001b[39mexists(\u001b[38;5;124m'\u001b[39m\u001b[38;5;132;01m%s\u001b[39;00m\u001b[38;5;124m.shp\u001b[39m\u001b[38;5;124m'\u001b[39m\u001b[38;5;241m%\u001b[39mshapefile):\n\u001b[0;32m-> 2136\u001b[0m     \u001b[38;5;28;01mraise\u001b[39;00m \u001b[38;5;167;01mIOError\u001b[39;00m(\u001b[38;5;124m'\u001b[39m\u001b[38;5;124mcannot locate \u001b[39m\u001b[38;5;132;01m%s\u001b[39;00m\u001b[38;5;124m.shp\u001b[39m\u001b[38;5;124m'\u001b[39m\u001b[38;5;241m%\u001b[39mshapefile)\n\u001b[1;32m   2137\u001b[0m \u001b[38;5;28;01mif\u001b[39;00m \u001b[38;5;129;01mnot\u001b[39;00m os\u001b[38;5;241m.\u001b[39mpath\u001b[38;5;241m.\u001b[39mexists(\u001b[38;5;124m'\u001b[39m\u001b[38;5;132;01m%s\u001b[39;00m\u001b[38;5;124m.shx\u001b[39m\u001b[38;5;124m'\u001b[39m\u001b[38;5;241m%\u001b[39mshapefile):\n\u001b[1;32m   2138\u001b[0m     \u001b[38;5;28;01mraise\u001b[39;00m \u001b[38;5;167;01mIOError\u001b[39;00m(\u001b[38;5;124m'\u001b[39m\u001b[38;5;124mcannot locate \u001b[39m\u001b[38;5;132;01m%s\u001b[39;00m\u001b[38;5;124m.shx\u001b[39m\u001b[38;5;124m'\u001b[39m\u001b[38;5;241m%\u001b[39mshapefile)\n",
      "\u001b[0;31mOSError\u001b[0m: cannot locate path_to_shapefile.shp"
     ]
    }
   ],
   "source": [
    "m.readshapefile('path_to_shapefile', 'mexico_shapefile')  # Replace 'path_to_shapefile' with the actual file path\n",
    "\n",
    "# Plot the Monterrey Metropolitan Area\n",
    "for shape_info, shape in zip(m.mexico_shapefile_info, m.mexico_shapefile):\n",
    "    if shape_info['NAME'] == 'Monterrey':\n",
    "        x, y = zip(*shape)\n",
    "        m.plot(x, y, marker=None, color='red', linewidth=2)\n"
   ]
  },
  {
   "cell_type": "code",
   "execution_count": null,
   "id": "dee47fa3",
   "metadata": {},
   "outputs": [],
   "source": []
  },
  {
   "cell_type": "code",
   "execution_count": null,
   "id": "6ff8f2f2",
   "metadata": {},
   "outputs": [],
   "source": []
  },
  {
   "cell_type": "code",
   "execution_count": null,
   "id": "593782b9",
   "metadata": {},
   "outputs": [],
   "source": []
  },
  {
   "cell_type": "code",
   "execution_count": null,
   "id": "c006babf",
   "metadata": {},
   "outputs": [],
   "source": []
  }
 ],
 "metadata": {
  "kernelspec": {
   "display_name": "Python 3 (ipykernel)",
   "language": "python",
   "name": "python3"
  },
  "language_info": {
   "codemirror_mode": {
    "name": "ipython",
    "version": 3
   },
   "file_extension": ".py",
   "mimetype": "text/x-python",
   "name": "python",
   "nbconvert_exporter": "python",
   "pygments_lexer": "ipython3",
   "version": "3.10.11"
  }
 },
 "nbformat": 4,
 "nbformat_minor": 5
}
